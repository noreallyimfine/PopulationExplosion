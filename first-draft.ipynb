{
 "cells": [
  {
   "cell_type": "markdown",
   "metadata": {},
   "source": [
    "## These are my first noticings\n",
    "\n",
    "    - The average birth rate around the world stayed above 5 until after 1975\n",
    "    "
   ]
  },
  {
   "cell_type": "markdown",
   "metadata": {},
   "source": [
    "### Questions to answer\n",
    "\n",
    "    - Where did populations grow during the population explosion?\n",
    "    \n",
    "    - What percent of the worlds population had low fertility rates over time?\n",
    "    \n",
    "    - What percent of the world is democratic at different intervals?\n",
    "    \n",
    "### Data still needed\n",
    "    - mapping countries to regions\n",
    "\n",
    "### Charts to make\n",
    "\n",
    "    - Percent of world population with under 5 birth rate over time\n",
    "    \n",
    "    - countries growth from births"
   ]
  },
  {
   "cell_type": "markdown",
   "metadata": {},
   "source": [
    "# First I engineer some features"
   ]
  },
  {
   "cell_type": "code",
   "execution_count": null,
   "metadata": {},
   "outputs": [],
   "source": []
  }
 ],
 "metadata": {
  "kernelspec": {
   "display_name": "flask_kernel",
   "language": "python",
   "name": "flask_kernel"
  },
  "language_info": {
   "codemirror_mode": {
    "name": "ipython",
    "version": 3
   },
   "file_extension": ".py",
   "mimetype": "text/x-python",
   "name": "python",
   "nbconvert_exporter": "python",
   "pygments_lexer": "ipython3",
   "version": "3.8.5"
  }
 },
 "nbformat": 4,
 "nbformat_minor": 4
}
