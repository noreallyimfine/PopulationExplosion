{
 "cells": [
  {
   "cell_type": "markdown",
   "metadata": {},
   "source": [
    "## These are my first noticings\n",
    "\n",
    "    - The average birth rate around the world stayed above 5 until after 1975\n",
    "    - At first that might suggest the growth came at places still having lots of babies, and only after popExp has the rate slowed everywhere\n",
    "    - But in fact, population takeoff happens after 1950 as well. From 1800-1950 goes from 1-3B, then 1950-Present it goes 3B-7.5B"
   ]
  },
  {
   "cell_type": "markdown",
   "metadata": {},
   "source": [
    "### Questions to answer\n",
    "\n",
    "    - Where did populations grow during the population explosion?\n",
    "    \n",
    "    - What percent of the worlds population had low fertility rates over time?\n",
    "    \n",
    "    - What percent of the world is democratic at different intervals?\n",
    "    \n",
    "### Data still needed\n",
    "    - mapping countries to regions\n",
    "\n",
    "### Charts to make\n",
    "\n",
    "    - Percent of world population with under 5 birth rate over time\n",
    "    \n",
    "    - countries growth from births\n",
    "   \n",
    "\n",
    "### Summary Statistics: \n",
    "    World population every 10 years from 1800-2020: \n",
    " [982380760,\n",
    " 1020354660,\n",
    " 1089710490,\n",
    " 1163607890,\n",
    " 1221752130,\n",
    " 1275943510,\n",
    " 1298902290,\n",
    " 1344078530,\n",
    " 1422052940,\n",
    " 1532527500,\n",
    " 1642818300,\n",
    " 1787533900,\n",
    " 1919318000,\n",
    " 2095838200,\n",
    " 2316781500,\n",
    " 2522164500,\n",
    " 3017062700,\n",
    " 3677197400,\n",
    " 4428322100,\n",
    " 5296926200,\n",
    " 6110199400,\n",
    " 6915038300,\n",
    " 7756094200]"
   ]
  },
  {
   "cell_type": "code",
   "execution_count": null,
   "metadata": {},
   "outputs": [],
   "source": []
  },
  {
   "cell_type": "markdown",
   "metadata": {},
   "source": [
    "# First I engineer some features"
   ]
  },
  {
   "cell_type": "code",
   "execution_count": null,
   "metadata": {},
   "outputs": [],
   "source": []
  },
  {
   "cell_type": "code",
   "execution_count": null,
   "metadata": {},
   "outputs": [],
   "source": []
  }
 ],
 "metadata": {
  "kernelspec": {
   "display_name": "flask_kernel",
   "language": "python",
   "name": "flask_kernel"
  },
  "language_info": {
   "codemirror_mode": {
    "name": "ipython",
    "version": 3
   },
   "file_extension": ".py",
   "mimetype": "text/x-python",
   "name": "python",
   "nbconvert_exporter": "python",
   "pygments_lexer": "ipython3",
   "version": "3.8.5"
  }
 },
 "nbformat": 4,
 "nbformat_minor": 4
}
