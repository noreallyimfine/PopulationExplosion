{
 "cells": [
  {
   "cell_type": "markdown",
   "metadata": {},
   "source": [
    "## These are my first noticings\n",
    "\n",
    "    - The average birth rate around the world stayed above 5 until after 1975\n",
    "    "
   ]
  },
  {
   "cell_type": "code",
   "execution_count": null,
   "metadata": {},
   "outputs": [],
   "source": [
    "### Questions to answer\n",
    "\n",
    "    - Where did populations grow during the population explosion?"
   ]
  }
 ],
 "metadata": {
  "kernelspec": {
   "display_name": "pop-explosion",
   "language": "python",
   "name": "pop-explosion"
  },
  "language_info": {
   "codemirror_mode": {
    "name": "ipython",
    "version": 3
   },
   "file_extension": ".py",
   "mimetype": "text/x-python",
   "name": "python",
   "nbconvert_exporter": "python",
   "pygments_lexer": "ipython3",
   "version": "3.8.3"
  }
 },
 "nbformat": 4,
 "nbformat_minor": 4
}
